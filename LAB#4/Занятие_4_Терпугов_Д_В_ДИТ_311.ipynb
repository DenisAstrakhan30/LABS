{
  "cells": [
    {
      "cell_type": "markdown",
      "metadata": {
        "id": "NDLnAPYDNRDT"
      },
      "source": [
        "# Анализ и обработка результатов\n",
        "\n",
        "В анализе данных важно наглядное представление результатов, чтобы их мог оценить заказчик. Это бизнес, где на кону громадный трафик, серверные мощности, личное время многотысячной аудитории. И одновременно это исследование.\n",
        "\n",
        "Как в настоящей экспериментальной науке, ответ непредсказуем. Его точность зависит от умелого владения статистическими методами и от качества исходных данных. Перед тем, как начинать считать, проверьте, грамотно ли ваши данные подготовлены.\n",
        "\n",
        "# Группировка данных\n",
        "\n",
        "Слово «анализ» означает разбор, рассмотрение с разных сторон. Анализ данных начинают с разделения их на группы по какому-нибудь признаку. Эта операция называется группировка данных. Она помогает изучить материал более подробно, чтобы затем перейти к поиску взаимосвязей между отдельными группами.\n",
        "\n",
        "\n",
        "Группировка оправданна, если данные чётко делятся по значимому признаку, а полученные группы близки к теме задачи. Например, когда есть данные обо всех покупках в супермаркете, можно смело заниматься группировкой. Так можно установить время наплыва покупателей и решить проблему пиковых нагрузок. Или посчитать средний чек — обычно для магазинов это ключевая метрика.\n",
        "\n",
        "\n",
        "Стадии группировки хорошо укладываются в словесную формулу **split-apply-combine**:\n",
        "\n",
        "•\tразделить, **split** — разбиение на группы по определённому критерию;\n",
        "\n",
        "•\tприменить, **apply** — применение какого-либо метода к каждой группе в отдельности, например, подсчёт численности группы методом count() или суммирование вызовом sum();\n",
        "\n",
        "•\tобъединить, **combine** — сведение результатов в новую структуру данных, в зависимости от условий разделения и выполнения метода это бывает DataFrame и Series.\n",
        "\n",
        "На картинке изображен принцип **split-apply-combine** для таблицы с экзопланетами. Посмотрим, как вообще идут дела с поиском экзопланет. Сначала данные делят по группам, где каждая группа — это год. Потом метод **count()** подсчитывает численность каждой группы. В итоге получаем новую структуру данных с группами, где каждая содержит год и число открытых за этот год экзопланет.\n",
        "\n",
        "![image.png](attachment:image.png)\n",
        "\n",
        "В Рandas для группировки данных есть метод **groupby()**. Он принимает как аргумент название столбца, по которому нужно группировать. В случае с делением экзопланет по годам открытия:\n",
        "\n",
        "**print(exoplanet.groupby('discovered'))**\n",
        "\n",
        "**<pandas.core.groupby.DataFrameGroupBy object at 0x7fc1e1ca3400>**\n",
        "\n",
        "\n",
        "Применение метода **groupby()** к объекту типа DataFrame приводит к созданию объекта особого типа — **DataFrameGroupBy**. Это сгруппированные данные. Если применить к ним какой-нибудь метод Pandas, они станут новой структурой данных типа **DataFrame** или **Series**.\n",
        "Подсчитаем сгруппированные по годам экзопланеты методом **count()**:\n",
        "\n",
        "Если нужно сравнить наблюдения по одному показателю, метод применяют к **DataFrameGroupBy** с указанием на один столбец. Нас в первую очередь интересует радиус экзопланет: мы ищем другую Землю. Давайте получим таблицу с единственным столбцом 'radius':\n",
        "\n",
        "**exo_number = exoplanet.groupby('discovered')['radius'].count()**\n",
        "\n",
        "**print(exo_number)**\n",
        "\n",
        "Получили Series, где по годам открытия расписано количество экзопланет, для которых удалось установить радиус.\n",
        "\n",
        "Посмотрим, как меняется средний радиус открытых экзопланет год от года. Для этого надо сложить радиусы планет, открытых за определённый год, и поделить на их количество (которое мы уже нашли).\n",
        "\n",
        "Сумма радиусов считается методом **sum()**:\n",
        "\n",
        "**exo_radius_sum = exoplanet.groupby('discovered')['radius'].sum()**\n",
        "\n",
        "\n",
        "**print(exo_radius_sum)**\n",
        "\n",
        "\n",
        "\n",
        "## Задача\n",
        "Вашему вниманию предлагается датасет с обзором показателей самоубийств с 1985 по 2016 год — Сравнение социально-экономической информации с показателями самоубийств по годам и странам.\n",
        "\n",
        "Столбцами этой таблицы являются: страна, год, пол, возрастная группа, количество самоубийств, население, уровень самоубийств, сводный ключ по стране за год, ИЧР (индекс человеческого развития) за год, ВВП за год, ВВП на душу населения, поколение (на основе среднего по возрастной группе).\n",
        "\n",
        "1. Загрузите таблицу master, содержащую данные о самоубийствах. Выведите на экран таблицу и оцените данные, обратите внимание на названия столбцов, переименуйте их, если это необходимо.\n",
        "\n",
        "2. Убедитесь в том, что данные прошли предподготовку.  Пропущенные и неопределённые значения выявляет метод isna(), а суммарное количество таких значений — метод sum().\n",
        "\n",
        "3. Сгруппируйте DataFrame по столбцу country, сохраните полученный результат в переменной country_grouping.\n",
        "\n",
        "4. Посчитайте количество случаев самоубийств по странам, которые были совершены, методом **sum()**, указав, что выбираем один столбец suicides_no.\n",
        "\n",
        "Сохраните результат в переменной country_sum и выведите первые 30 строк этой таблицы.\n",
        "\n"
      ]
    },
    {
      "cell_type": "code",
      "execution_count": 7,
      "metadata": {
        "scrolled": true,
        "id": "vVaZpSyhNRDW",
        "outputId": "dcb1b217-058d-4b5c-9d6d-6e2c4cd67c21",
        "colab": {
          "base_uri": "https://localhost:8080/"
        }
      },
      "outputs": [
        {
          "output_type": "stream",
          "name": "stdout",
          "text": [
            "country              0\n",
            "year                 0\n",
            "sex                  0\n",
            "age                  0\n",
            "suicides_no          0\n",
            "population           0\n",
            "suicides/100k_pop    0\n",
            "country_year         0\n",
            "gpd_for_year         0\n",
            "gpd_per_capita       0\n",
            "generation           0\n",
            "dtype: int64\n",
            "country\n",
            "Albania                     1970\n",
            "Antigua and Barbuda           11\n",
            "Argentina                  82219\n",
            "Armenia                     1905\n",
            "Aruba                        101\n",
            "Australia                  70111\n",
            "Austria                    50073\n",
            "Azerbaijan                  1656\n",
            "Bahamas                       93\n",
            "Bahrain                      463\n",
            "Barbados                     177\n",
            "Belarus                    59892\n",
            "Belgium                    62761\n",
            "Belize                       348\n",
            "Bosnia and Herzegovina       318\n",
            "Brazil                    226613\n",
            "Bulgaria                   36388\n",
            "Cabo Verde                    42\n",
            "Canada                    107561\n",
            "Chile                      40895\n",
            "Colombia                   53080\n",
            "Costa Rica                  6792\n",
            "Croatia                    18429\n",
            "Cuba                       41418\n",
            "Cyprus                       412\n",
            "Czech Republic             43687\n",
            "Denmark                    15297\n",
            "Dominica                       0\n",
            "Ecuador                    20660\n",
            "El Salvador                11683\n",
            "Name: suicides_no, dtype: int64\n"
          ]
        }
      ],
      "source": [
        "import io, requests\n",
        "import pandas as pd\n",
        "from io import StringIO\n",
        "\n",
        "url = \"https://raw.githubusercontent.com/DenisAstrakhan30/LABS/main/LAB%234/master.csv\"\n",
        "response = requests.get(url)\n",
        "master_df = StringIO(response.text)\n",
        "master = pd.read_csv(master_df)\n",
        "#print(master)\n",
        "master.columns = ['country','year','sex', 'age', 'suicides_no', 'population', 'suicides/100k_pop', 'country_year', 'hdi_for_year', 'gpd_for_year', 'gpd_per_capita', 'generation']\n",
        "#print(master.columns)\n",
        "master.dropna(axis = 'columns', inplace = True)\n",
        "print(master.isna().sum())\n",
        "country_grouping = master.groupby('country')\n",
        "country_sum = country_grouping['suicides_no'].sum()\n",
        "print(country_sum.head(30))"
      ]
    },
    {
      "cell_type": "markdown",
      "metadata": {
        "id": "9Y7I18XwNRDX"
      },
      "source": [
        "# Сортировка данных\n",
        "\n",
        "\n",
        "Поиск необычного в группе — что среди планет, что среди меломанов — это прежде всего поиск чемпионов: объектов с выдающимися показателями по разным статьям. Как всю таблицу, так и отдельные группы изучают, сортируя строки по какому-либо столбцу.\n",
        "\n",
        "В Pandas для этой операции есть метод **sort_values()**. У него два аргумента:\n",
        "\n",
        "• **by = 'имя столбца'** — имя столбца, по которому нужно сортировать;\n",
        "\n",
        "• **ascending:** по умолчанию True. Для сортировки по убыванию установите значение False.\n",
        "\n",
        "![image.png](attachment:image.png)\n",
        "\n",
        "\n",
        "Среди экзопланет интересны близкие по размерам к Земле. Есть ли такие? Отсортируем список по радиусу в порядке возрастания. Тогда в голове таблицы окажутся самые малые, на которых гравитация не прижмёт нас к полу.\n",
        "\n",
        "**print(exoplanet.sort_values(by='radius').head(30))**\n",
        "\n",
        "Оказывается, некоторые из уже открытых экзопланет по размерам близки не то что к Земле, но уже и к Луне! Получим список экзопланет с радиусом меньше земного. Смотрите, как логический оператор (здесь это <) задействуется в отборе элементов столбца. Дальше нам этот приём не раз понадобится.\n",
        "\n",
        "**print(exoplanet[exoplanet['radius'] < 1])**\n",
        "\n",
        "Но и этот список такой длинный, что изучать его лучше по частям. Экзопланеты, близкие по размерам к Земле, за последнее десятилетие открывали нередко. Можно изучать список открытых за каждый год. Например, для 2014 года (вновь обратите внимание на работу логического оператора, теперь это ==):\n",
        "\n",
        "**print(exoplanet[exoplanet['discovered'] == 2014])**\n",
        "\n",
        "А чтобы не тратить время на лишнее, поставим оба условия сразу. Для этого в Pandas есть логический оператор &, подобный оператору and языка Python. Напомним, его смысл на русском языке можно передать словами «и ещё»:\n",
        "\n",
        "**exo_small_14 = exoplanet[ (exoplanet['radius']<1) & (exoplanet['discovered']==2014)]**\n",
        "\n",
        "**print(exo_small_14)**\n",
        "\n",
        "Отсортируем результат в порядке убывания радиуса.\n",
        "\n",
        "**print(exo_small_14.sort_values(by = 'radius', ascending = False))**\n",
        "\n",
        "\n",
        "\n"
      ]
    },
    {
      "cell_type": "markdown",
      "metadata": {
        "id": "DZEs1X_aNRDX"
      },
      "source": [
        "## Задача\n",
        "1. Выделим пятерки стран с самым низким и самым высоким уровнем самоубийств в мире."
      ]
    },
    {
      "cell_type": "code",
      "execution_count": null,
      "metadata": {
        "id": "mIR8ndqMNRDY",
        "outputId": "39cfd009-683b-4997-e63f-2eaaeaebf403"
      },
      "outputs": [
        {
          "name": "stdout",
          "output_type": "stream",
          "text": [
            "Страны с самым низким уровнем самоубийств:\n",
            " country\n",
            "Dominica                   0.00\n",
            "Saint Kitts and Nevis      0.00\n",
            "Oman                      26.50\n",
            "United Arab Emirates      94.89\n",
            "Jamaica                  106.44\n",
            "Name: suicides/100k_pop, dtype: float64\n"
          ]
        }
      ],
      "source": [
        "suicide_rate = master.groupby('country')['suicides/100k_pop'].sum()\n",
        "print('Страны с самым низким уровнем самоубийств:\\n', suicide_rate.sort_values().head(5))"
      ]
    },
    {
      "cell_type": "code",
      "execution_count": null,
      "metadata": {
        "scrolled": true,
        "id": "kg1mEvUmNRDY",
        "outputId": "266a813e-0706-4e83-8caa-e56f5078056d"
      },
      "outputs": [
        {
          "name": "stdout",
          "output_type": "stream",
          "text": [
            "Страны с самым высоким уровнем самоубийств:\n",
            " country\n",
            "Russian Federation    11305.13\n",
            "Lithuania             10588.88\n",
            "Hungary               10156.07\n",
            "Kazakhstan             9519.52\n",
            "Republic of Korea      9350.45\n",
            "Name: suicides/100k_pop, dtype: float64\n"
          ]
        }
      ],
      "source": [
        "print('Страны с самым высоким уровнем самоубийств:\\n',suicide_rate.sort_values(ascending=False).head(5))\n"
      ]
    },
    {
      "cell_type": "markdown",
      "metadata": {
        "id": "Eqtf7lfHNRDY"
      },
      "source": [
        "2. Исследуйте распределение количества суидидов по гендерному признаку. Найдите лидеров и антилидеров по количеству самоубийств среди женщин. Повторяется ли картина по сравнению с предыдущим исследованием?"
      ]
    },
    {
      "cell_type": "code",
      "execution_count": null,
      "metadata": {
        "id": "L7LON7N1NRDY",
        "outputId": "8b3d9389-ec85-4f81-ae05-84b356fcdebd"
      },
      "outputs": [
        {
          "name": "stdout",
          "output_type": "stream",
          "text": [
            "Лидеры по количеству самоубийств среди женщин:\n",
            " country\n",
            "Japan                 251630\n",
            "Russian Federation    214330\n",
            "United States         213797\n",
            "France                 89419\n",
            "Republic of Korea      82615\n",
            "Name: suicides_no, dtype: int64\n",
            "Антилидеры по количеству самоубийств среди женщин:\n",
            " country\n",
            "Oman                     0\n",
            "San Marino               0\n",
            "Dominica                 0\n",
            "Saint Kitts and Nevis    0\n",
            "Antigua and Barbuda      1\n",
            "Name: suicides_no, dtype: int64\n"
          ]
        }
      ],
      "source": [
        "country_grouping_suicides = master[(master['sex'] == 'female')]\n",
        "female_suicide_rate = country_grouping_suicides.groupby('country')['suicides_no'].sum()\n",
        "print('Лидеры по количеству самоубийств среди женщин:\\n', female_suicide_rate.sort_values(ascending=False).head(5))\n",
        "print('Антилидеры по количеству самоубийств среди женщин:\\n', female_suicide_rate.sort_values().head(5))"
      ]
    },
    {
      "cell_type": "markdown",
      "metadata": {
        "id": "YWA_izHANRDZ"
      },
      "source": [
        "# Описательная статистика\n",
        "\n",
        "Чтобы представить себе среднестатистического самоубийцу, понадобится описательная статистика.\n",
        "\n",
        "Из её показателей для количественного описания данных в нашей задаче нужны четыре меры — максимум, минимум, медиана и среднее.\n",
        "\n",
        "Наибольшее и наименьшее обычно вычисляют только по одному признаку. Например, можно получить минимальное и максимальное значение уровня самоубийств (количество самоубийств на 100 тыс.населения) (столбец 'suicides/100k pop'). Для поиска максимума вызывают метод max(), примененный к этому столбцу:\n",
        "\n",
        "print(master['suicides/100k pop'].max())\n"
      ]
    },
    {
      "cell_type": "code",
      "execution_count": null,
      "metadata": {
        "id": "IeQHPTIyNRDZ",
        "outputId": "d4196a39-7d1d-46d0-e486-39f83eaa9a21"
      },
      "outputs": [
        {
          "name": "stdout",
          "output_type": "stream",
          "text": [
            "224.97\n"
          ]
        }
      ],
      "source": [
        "print(master['suicides/100k_pop'].max())"
      ]
    },
    {
      "cell_type": "markdown",
      "metadata": {
        "id": "GfGAGTdjNRDZ"
      },
      "source": [
        "Самый высокий показатель оказался 224.97 самоубийств на 100 тыс.населения. Интересно, в какой стране такая ситуация.\n",
        "\n",
        "Запросим из master строку с максимальным значением, прибегнув к логической индексации с условием\n",
        "\n",
        "**master['suicides/100k pop'] == master['suicides/100k pop'].max()**"
      ]
    },
    {
      "cell_type": "code",
      "execution_count": null,
      "metadata": {
        "id": "ema7tG46NRDZ",
        "outputId": "e5620e86-dceb-4603-9c3c-f718f9a07667"
      },
      "outputs": [
        {
          "data": {
            "text/plain": [
              "0        False\n",
              "1        False\n",
              "2        False\n",
              "3        False\n",
              "4        False\n",
              "         ...  \n",
              "27815    False\n",
              "27816    False\n",
              "27817    False\n",
              "27818    False\n",
              "27819    False\n",
              "Name: suicides/100k_pop, Length: 27820, dtype: bool"
            ]
          },
          "execution_count": 64,
          "metadata": {},
          "output_type": "execute_result"
        }
      ],
      "source": [
        "master['suicides/100k_pop'] == master['suicides/100k_pop'].max()"
      ]
    },
    {
      "cell_type": "markdown",
      "metadata": {
        "id": "9zFlbWpKNRDZ"
      },
      "source": [
        "Минимальное значение — ищут методом **min()**. Нам интересно установить случаи, когда уровень суицидов минимальный, но не нулевой.\n",
        "\n",
        "Вот как мы создаём выборку  и находим в ней минимальное значение:\n",
        "\n",
        "**master_drop_null = master[master['suicides/100k pop'] != 0]**\n",
        "\n",
        "**print(master_drop_null['suicides/100k pop'].min())**\n"
      ]
    },
    {
      "cell_type": "code",
      "execution_count": null,
      "metadata": {
        "id": "-3fHRQD1NRDa",
        "outputId": "c6ef7664-c707-4cdd-fde7-e51160f69293"
      },
      "outputs": [
        {
          "name": "stdout",
          "output_type": "stream",
          "text": [
            "0.02\n"
          ]
        }
      ],
      "source": [
        "master_drop_null = master[master['suicides/100k_pop'] != 0]\n",
        "print(master_drop_null['suicides/100k_pop'].min())"
      ]
    },
    {
      "cell_type": "markdown",
      "metadata": {
        "id": "r8s7l7uLNRDa"
      },
      "source": [
        "Получим название самой \"счастливой\" страны. Как и при поиске максимума, воспользуемся условием и логической индексацией"
      ]
    },
    {
      "cell_type": "code",
      "execution_count": null,
      "metadata": {
        "id": "uDR7l5QwNRDa",
        "outputId": "1e8bb59c-b86e-4989-d949-78ac7a0760df"
      },
      "outputs": [
        {
          "name": "stdout",
          "output_type": "stream",
          "text": [
            "9        Albania\n",
            "10       Albania\n",
            "11       Albania\n",
            "22       Albania\n",
            "23       Albania\n",
            "          ...   \n",
            "27363    Uruguay\n",
            "27459    Uruguay\n",
            "27471    Uruguay\n",
            "27495    Uruguay\n",
            "27543    Uruguay\n",
            "Name: country, Length: 4281, dtype: object\n"
          ]
        }
      ],
      "source": [
        "min_suicides_rate = master['suicides/100k_pop'].min()\n",
        "min_suicides_country = master[master['suicides/100k_pop'] == min_suicides_rate]\n",
        "print(min_suicides_country['country'])"
      ]
    },
    {
      "cell_type": "markdown",
      "metadata": {
        "id": "PDOFahKDNRDa"
      },
      "source": [
        "Результат вывода — две страны, которые соответствуют минимальному значению.\n",
        "На основе полученных данных можно сделать вывод, что число совершенных самоубийств на 100 тыс. населения  находится в диапазоне от 0,02 до 224.97 секунд, не включая пропущенные.\n",
        "\n",
        "Это знание пригодится, чтобы разобраться с медианой и средним арифметическим.\n",
        "\n",
        "Среднее и медиана оценивают значения в центре выборки. Если тех строк, где число с большим количеством самоубийц, столько же, сколько тех, где это число мало — среднее подойдет. Но когда есть оторванные от основной массы лидеры, их результаты сильно смещают значение среднего вверх. Вот почему оценивать в этом случае лучше медианой.\n",
        "\n",
        "![image.png](attachment:image.png)\n",
        "\n",
        "В геометрии медиана делит фигуру на две равные по площади. В статистике она делит выборку пополам: в одной половине значения меньше медианного, в другой больше. Логично, что для определения медианы список обязательно должен быть отсортирован — либо по возрастанию, либо по убыванию.\n",
        "Когда количество значений нечётное, медиана будет равна тому значению, которое оказалось ровно посередине отсортированного набора. Если же количество данных чётное, то медиана рассчитывается как среднее арифметическое двух соседних чисел в середине набора.\n",
        "\n"
      ]
    },
    {
      "cell_type": "markdown",
      "metadata": {
        "id": "-IMO-WGXNRDa"
      },
      "source": [
        "В Pandas есть метод **median()**, который считает медиану. По аналогии с **min()** и **max()** его можно применять ко всей таблице, к отдельному столбцу или к сгруппированным данным. Теперь применим медиану ко всем значениям времени прослушивания в нашей таблице, исключив нулевые:\n",
        "\n"
      ]
    },
    {
      "cell_type": "code",
      "execution_count": null,
      "metadata": {
        "id": "Km6j_nnzNRDa",
        "outputId": "b0d793a7-a1d9-4a59-f5a6-76483e226af7"
      },
      "outputs": [
        {
          "name": "stdout",
          "output_type": "stream",
          "text": [
            "5.99\n"
          ]
        }
      ],
      "source": [
        "median_suicides = master['suicides/100k_pop'].median()\n",
        "print(median_suicides)"
      ]
    },
    {
      "cell_type": "markdown",
      "metadata": {
        "id": "6aLUQ2N6NRDa"
      },
      "source": [
        "Чтобы убедиться, что лидеры действительно смещают средний показатель вверх, найдём среднее арифметическое всех этих значений методом mean():"
      ]
    },
    {
      "cell_type": "code",
      "execution_count": null,
      "metadata": {
        "id": "rGI9M64-NRDb",
        "outputId": "c4d2563c-65dd-4227-d3be-4f01e3d6ebcc"
      },
      "outputs": [
        {
          "name": "stdout",
          "output_type": "stream",
          "text": [
            "12.816097411933864\n"
          ]
        }
      ],
      "source": [
        "mean_suicides = master['suicides/100k_pop'].mean()\n",
        "print(mean_suicides)"
      ]
    },
    {
      "cell_type": "code",
      "execution_count": null,
      "metadata": {
        "id": "s53zdD8VNRDb"
      },
      "outputs": [],
      "source": []
    }
  ],
  "metadata": {
    "kernelspec": {
      "display_name": "Python 3 (ipykernel)",
      "language": "python",
      "name": "python3"
    },
    "language_info": {
      "codemirror_mode": {
        "name": "ipython",
        "version": 3
      },
      "file_extension": ".py",
      "mimetype": "text/x-python",
      "name": "python",
      "nbconvert_exporter": "python",
      "pygments_lexer": "ipython3",
      "version": "3.11.9"
    },
    "colab": {
      "provenance": []
    }
  },
  "nbformat": 4,
  "nbformat_minor": 0
}