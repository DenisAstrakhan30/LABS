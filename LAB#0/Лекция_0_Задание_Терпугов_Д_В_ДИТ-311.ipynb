import pandas as pd
music = [
    ['Imagine Dragons','Believer'],
    ['Андрей Губин','Ночь'],
    ['Coldplay','Yellow'],
    ['Смсыловые Галлюцинации','Вечно Молодой'],
    ['Би-2','Полковнику никто не пишет']
    ]
entries = ['artist','track']
table = pd.DataFrame(data=music,columns=entries)
print(table)
